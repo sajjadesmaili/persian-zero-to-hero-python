{
 "cells": [
  {
   "cell_type": "markdown",
   "id": "d6867da1",
   "metadata": {},
   "source": [
    "# Applications of Python"
   ]
  },
  {
   "cell_type": "raw",
   "id": "dc5d92a8",
   "metadata": {},
   "source": [
    "We can use Python everywhere because Python is known for its general-purpose nature, which makes it applicable in almost every domain of software development. The most common application areas are:\n",
    "\n",
    "Desktop Applications\n",
    "Web Applications\n",
    "Database Applications\n",
    "Network Programming\n",
    "Games\n",
    "Data Analysis Applications\n",
    "Machine Learning\n",
    "Artificial Intelligence Applications\n",
    "IoT"
   ]
  },
  {
   "cell_type": "markdown",
   "id": "f8597e89",
   "metadata": {},
   "source": [
    "# install in windows"
   ]
  },
  {
   "cell_type": "markdown",
   "id": "2960f401",
   "metadata": {},
   "source": [
    "Open the command line or terminal and type the below command."
   ]
  },
  {
   "cell_type": "code",
   "execution_count": 6,
   "id": "471ccf28",
   "metadata": {},
   "outputs": [
    {
     "name": "stdout",
     "output_type": "stream",
     "text": [
      "Python 3.11.4\n"
     ]
    }
   ],
   "source": [
    "# python version in anaconda jupyter \n",
    "\n",
    "!python --version\n",
    "# python verstion in cmd windows\n",
    "# python --version"
   ]
  },
  {
   "cell_type": "markdown",
   "id": "e51fa1bb",
   "metadata": {},
   "source": [
    "Download the latest version of Python from \" python.org \" . Once you’ve downloaded the installer as per the operating system, Next run an installer by double-clicking on the downloaded file and following the steps."
   ]
  },
  {
   "cell_type": "markdown",
   "id": "a184d7d3",
   "metadata": {},
   "source": [
    "# install jupyter notebook "
   ]
  },
  {
   "cell_type": "markdown",
   "id": "8b24b042",
   "metadata": {},
   "source": [
    "## Jupyter Notebook\n"
   ]
  },
  {
   "cell_type": "markdown",
   "id": "52496731",
   "metadata": {},
   "source": [
    "Install JupyterLab with pip:\n",
    "\n"
   ]
  },
  {
   "cell_type": "code",
   "execution_count": 8,
   "id": "2bf9b841",
   "metadata": {},
   "outputs": [],
   "source": [
    "# pip install notebook"
   ]
  },
  {
   "cell_type": "markdown",
   "id": "0522aab1",
   "metadata": {},
   "source": [
    " To run the notebook:"
   ]
  },
  {
   "cell_type": "code",
   "execution_count": 9,
   "id": "d9ac9197",
   "metadata": {},
   "outputs": [],
   "source": [
    "# jupyter notebook"
   ]
  },
  {
   "cell_type": "markdown",
   "id": "dd642541",
   "metadata": {},
   "source": [
    "# install pycharm "
   ]
  },
  {
   "cell_type": "code",
   "execution_count": 11,
   "id": "d2b8d71e",
   "metadata": {},
   "outputs": [],
   "source": [
    "# go to site https://www.jetbrains.com/pycharm/download/"
   ]
  },
  {
   "cell_type": "code",
   "execution_count": null,
   "id": "18909517",
   "metadata": {},
   "outputs": [],
   "source": []
  }
 ],
 "metadata": {
  "kernelspec": {
   "display_name": "Python 3 (ipykernel)",
   "language": "python",
   "name": "python3"
  },
  "language_info": {
   "codemirror_mode": {
    "name": "ipython",
    "version": 3
   },
   "file_extension": ".py",
   "mimetype": "text/x-python",
   "name": "python",
   "nbconvert_exporter": "python",
   "pygments_lexer": "ipython3",
   "version": "3.11.4"
  }
 },
 "nbformat": 4,
 "nbformat_minor": 5
}
