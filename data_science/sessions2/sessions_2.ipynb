{
  "nbformat": 4,
  "nbformat_minor": 0,
  "metadata": {
    "colab": {
      "provenance": []
    },
    "kernelspec": {
      "name": "python3",
      "display_name": "Python 3"
    },
    "language_info": {
      "name": "python"
    }
  },
  "cells": [
    {
      "cell_type": "code",
      "execution_count": 5,
      "metadata": {
        "colab": {
          "base_uri": "https://localhost:8080/"
        },
        "id": "G2Lj3hidy5Hd",
        "outputId": "13653f25-c2d9-4051-cc43-486afc2cd535"
      },
      "outputs": [
        {
          "output_type": "stream",
          "name": "stdout",
          "text": [
            "احتمال اینکه توپی که بیرون آورده می‌شود قرمز باشد: 0.60\n"
          ]
        }
      ],
      "source": [
        "# برنامه محاسبه احتمال شرطی\n",
        "\n",
        "def conditional_probability(red_balls, blue_balls):\n",
        "    # تعداد کل توپ‌ها\n",
        "    total_balls = red_balls + blue_balls\n",
        "\n",
        "    # احتمال شرطی توپ قرمز\n",
        "    P_A_given_B = red_balls / total_balls\n",
        "    return P_A_given_B\n",
        "\n",
        "# مقداردهی تعداد توپ‌های قرمز و آبی\n",
        "red_balls = 3\n",
        "blue_balls = 2\n",
        "\n",
        "# محاسبه احتمال شرطی\n",
        "probability = conditional_probability(red_balls, blue_balls)\n",
        "\n",
        "# نمایش نتیجه\n",
        "print(f\"احتمال اینکه توپی که بیرون آورده می‌شود قرمز باشد: {probability:.2f}\")\n"
      ]
    },
    {
      "cell_type": "code",
      "source": [
        "# برنامه برای محاسبه احتمال کل\n",
        "\n",
        "# احتمال انتخاب جعبه 1 و 2\n",
        "P_B1 = 0.6\n",
        "P_B2 = 0.4\n",
        "\n",
        "# احتمال قرمز بودن توپ در جعبه 1 و 2\n",
        "P_A_given_B1 = 3 / 5  # جعبه 1 دارای 3 توپ قرمز از 5 توپ است\n",
        "P_A_given_B2 = 1 / 2  # جعبه 2 دارای 1 توپ قرمز از 2 توپ است\n",
        "\n",
        "# محاسبه احتمال کل اینکه توپی که بیرون می‌آید قرمز باشد\n",
        "P_A = (P_B1 * P_A_given_B1) + (P_B2 * P_A_given_B2)\n",
        "P_A"
      ],
      "metadata": {
        "colab": {
          "base_uri": "https://localhost:8080/"
        },
        "id": "S659X7SEy-vH",
        "outputId": "965d8f67-2d10-4e7a-cd10-4d8c22bc9e4c"
      },
      "execution_count": 6,
      "outputs": [
        {
          "output_type": "execute_result",
          "data": {
            "text/plain": [
              "0.56"
            ]
          },
          "metadata": {},
          "execution_count": 6
        }
      ]
    },
    {
      "cell_type": "code",
      "source": [
        "# برنامه برای محاسبه احتمال بیماری با استفاده از قانون بیز\n",
        "\n",
        "# داده‌ها\n",
        "P_Disease = 0.01  # احتمال پیشین بیماری\n",
        "P_NoDisease = 1 - P_Disease  # احتمال پیشین عدم وجود بیماری\n",
        "P_Test_Positive_given_Disease = 0.9  # احتمال نتیجه مثبت تست در صورت بیماری\n",
        "P_Test_Positive_given_NoDisease = 0.05  # احتمال نتیجه مثبت تست در صورت عدم وجود بیماری\n",
        "\n",
        "# محاسبه احتمال کل نتیجه مثبت تست\n",
        "P_Test_Positive = (P_Test_Positive_given_Disease * P_Disease) + (P_Test_Positive_given_NoDisease * P_NoDisease)\n",
        "\n",
        "# محاسبه احتمال اینکه فرد بیمار باشد با توجه به نتیجه مثبت تست\n",
        "P_Disease_given_Test_Positive = (P_Test_Positive_given_Disease * P_Disease) / P_Test_Positive\n",
        "\n",
        "P_Disease_given_Test_Positive\n"
      ],
      "metadata": {
        "colab": {
          "base_uri": "https://localhost:8080/"
        },
        "id": "9I1rb0JWBc0v",
        "outputId": "dcc8e708-1475-48c2-c6e2-7fd992ac8a3a"
      },
      "execution_count": 7,
      "outputs": [
        {
          "output_type": "execute_result",
          "data": {
            "text/plain": [
              "0.15384615384615385"
            ]
          },
          "metadata": {},
          "execution_count": 7
        }
      ]
    },
    {
      "cell_type": "code",
      "source": [],
      "metadata": {
        "id": "l3PzetWtB7AA"
      },
      "execution_count": null,
      "outputs": []
    },
    {
      "cell_type": "code",
      "source": [],
      "metadata": {
        "id": "3ucCUwfvF6UV"
      },
      "execution_count": null,
      "outputs": []
    }
  ]
}