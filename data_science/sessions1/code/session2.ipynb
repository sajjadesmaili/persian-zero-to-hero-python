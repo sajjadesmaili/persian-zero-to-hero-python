{
 "cells": [
  {
   "cell_type": "markdown",
   "id": "c38b11e0",
   "metadata": {},
   "source": [
    "The purpose of this project is to master the exploratory data analysis (EDA) in banking with Pandas framework.\n",
    "\n",
    "Goals of the Project:\n",
    "\n",
    "1.  Explore a banking dataset with Pandas framework.\n",
    "2.  Build pivot tables.\n",
    "3.  Visualize the dataset with various plot types."
   ]
  },
  {
   "cell_type": "markdown",
   "id": "46da6b7f",
   "metadata": {},
   "source": [
    "## Outline\n"
   ]
  },
  {
   "cell_type": "markdown",
   "id": "5891b74a",
   "metadata": {},
   "source": [
    "*   Materials and methods\n",
    "*   General part\n",
    "    *   Libraries import\n",
    "    *   Dataset exploration\n",
    "    *   Pivot tables\n",
    "    *   Visualization in Pandas\n",
    "*   Tasks"
   ]
  },
  {
   "cell_type": "markdown",
   "id": "12861fa2",
   "metadata": {},
   "source": [
    "# Machine Learning & Deep Learning\n",
    "# Data analysis\n",
    "# Fundamental of computer & programming\n",
    "# Database\n",
    "# experience transfer panel\n",
    "# Git\n",
    "# Soft Skills\n",
    "# Python\n",
    "# Mathematics & Linear Algebra"
   ]
  },
  {
   "cell_type": "raw",
   "id": "42b45a61",
   "metadata": {},
   "source": [
    "# machine learning (ML) introduction\n",
    "# mathematical background\n",
    "# ML overview & ML flow\n",
    "# data collection and integration\n",
    "# data visualization & analysis\n",
    "# feature selection & engineering\n",
    "# Regression\n",
    "# classification (KNN)\n",
    "# SVM\n",
    "# Decision Tree\n",
    "# Ensemble Learning"
   ]
  },
  {
   "cell_type": "code",
   "execution_count": null,
   "id": "a1547c16",
   "metadata": {},
   "outputs": [],
   "source": []
  }
 ],
 "metadata": {
  "kernelspec": {
   "display_name": "Python 3 (ipykernel)",
   "language": "python",
   "name": "python3"
  },
  "language_info": {
   "codemirror_mode": {
    "name": "ipython",
    "version": 3
   },
   "file_extension": ".py",
   "mimetype": "text/x-python",
   "name": "python",
   "nbconvert_exporter": "python",
   "pygments_lexer": "ipython3",
   "version": "3.11.4"
  }
 },
 "nbformat": 4,
 "nbformat_minor": 5
}
