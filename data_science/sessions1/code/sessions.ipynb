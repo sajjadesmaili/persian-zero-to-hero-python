{
 "cells": [
  {
   "cell_type": "code",
   "execution_count": 19,
   "id": "e60b95b1-0d03-4335-9b2e-4bb0937e25aa",
   "metadata": {},
   "outputs": [],
   "source": [
    "# !pip install matplotlib\n",
    "# !pip install random "
   ]
  },
  {
   "cell_type": "code",
   "execution_count": 29,
   "id": "6349ab05-3f3e-4d70-aea2-0b7779448867",
   "metadata": {},
   "outputs": [],
   "source": [
    "#pip install matplotlib"
   ]
  },
  {
   "cell_type": "code",
   "execution_count": 32,
   "id": "ef5d8c9e-123e-4bff-92af-27b8cf53335d",
   "metadata": {},
   "outputs": [],
   "source": [
    "a , b = 1 , 2"
   ]
  },
  {
   "cell_type": "code",
   "execution_count": 33,
   "id": "e6b14c55-766c-4b26-8c53-299e37d9b39c",
   "metadata": {},
   "outputs": [
    {
     "name": "stdout",
     "output_type": "stream",
     "text": [
      "1\n"
     ]
    }
   ],
   "source": [
    "print(a)"
   ]
  },
  {
   "cell_type": "code",
   "execution_count": 34,
   "id": "691ce4e9-b493-4409-a58a-a8401f0a0622",
   "metadata": {},
   "outputs": [
    {
     "name": "stdout",
     "output_type": "stream",
     "text": [
      "2\n"
     ]
    }
   ],
   "source": [
    "print(b)"
   ]
  },
  {
   "cell_type": "code",
   "execution_count": 28,
   "id": "6aed56bb-aef4-41a3-9f4a-4c3225cb2d83",
   "metadata": {},
   "outputs": [
    {
     "name": "stdout",
     "output_type": "stream",
     "text": [
      "(4, 1, 5)\n"
     ]
    }
   ],
   "source": [
    "import random\n",
    "\n",
    "def roll_dice():\n",
    "    die1 = random.randint(1, 6)\n",
    "    die2 = random.randint(1, 6)\n",
    "    total = die1 + die2\n",
    "    return die1, die2, total\n",
    "\n",
    "\n",
    "# Roll the dice\n",
    "print(roll_dice())\n"
   ]
  },
  {
   "cell_type": "code",
   "execution_count": 16,
   "id": "efa6b744-b876-49c1-9dfd-e2c8c7afc391",
   "metadata": {},
   "outputs": [],
   "source": [
    "counts = [] \n",
    "die1 = [] \n",
    "die2 = []  \n",
    "for i in range(100):\n",
    "    value1 , value2 , value3 = roll_dice()\n",
    "    die1.append(value1)\n",
    "    die2.append(value2)\n",
    "    counts.append(value3)"
   ]
  },
  {
   "cell_type": "code",
   "execution_count": 17,
   "id": "5a63df58-015b-46fa-89eb-16dba62dd208",
   "metadata": {},
   "outputs": [
    {
     "data": {
      "text/plain": [
       "[12,\n",
       " 7,\n",
       " 4,\n",
       " 5,\n",
       " 6,\n",
       " 6,\n",
       " 8,\n",
       " 6,\n",
       " 6,\n",
       " 9,\n",
       " 3,\n",
       " 11,\n",
       " 6,\n",
       " 10,\n",
       " 9,\n",
       " 4,\n",
       " 3,\n",
       " 3,\n",
       " 7,\n",
       " 6,\n",
       " 6,\n",
       " 9,\n",
       " 10,\n",
       " 4,\n",
       " 11,\n",
       " 6,\n",
       " 8,\n",
       " 6,\n",
       " 2,\n",
       " 9,\n",
       " 6,\n",
       " 4,\n",
       " 10,\n",
       " 11,\n",
       " 9,\n",
       " 9,\n",
       " 7,\n",
       " 8,\n",
       " 9,\n",
       " 10,\n",
       " 5,\n",
       " 9,\n",
       " 5,\n",
       " 6,\n",
       " 9,\n",
       " 4,\n",
       " 6,\n",
       " 7,\n",
       " 11,\n",
       " 3,\n",
       " 8,\n",
       " 7,\n",
       " 3,\n",
       " 7,\n",
       " 10,\n",
       " 5,\n",
       " 7,\n",
       " 3,\n",
       " 7,\n",
       " 8,\n",
       " 6,\n",
       " 12,\n",
       " 9,\n",
       " 6,\n",
       " 8,\n",
       " 11,\n",
       " 8,\n",
       " 5,\n",
       " 10,\n",
       " 6,\n",
       " 10,\n",
       " 12,\n",
       " 7,\n",
       " 7,\n",
       " 8,\n",
       " 9,\n",
       " 8,\n",
       " 10,\n",
       " 7,\n",
       " 3,\n",
       " 5,\n",
       " 7,\n",
       " 8,\n",
       " 9,\n",
       " 5,\n",
       " 7,\n",
       " 6,\n",
       " 9,\n",
       " 7,\n",
       " 6,\n",
       " 8,\n",
       " 10,\n",
       " 10,\n",
       " 6,\n",
       " 9,\n",
       " 7,\n",
       " 5,\n",
       " 6,\n",
       " 6,\n",
       " 4]"
      ]
     },
     "execution_count": 17,
     "metadata": {},
     "output_type": "execute_result"
    }
   ],
   "source": [
    "counts"
   ]
  },
  {
   "cell_type": "code",
   "execution_count": 35,
   "id": "373fd65a-ff7a-4bd6-83f1-2083ee70cc55",
   "metadata": {},
   "outputs": [
    {
     "data": {
      "image/png": "[encoded data removed]",
      "text/plain": [
       "<Figure size 640x480 with 1 Axes>"
      ]
     },
     "metadata": {},
     "output_type": "display_data"
    }
   ],
   "source": [
    "import matplotlib.pyplot as plt\n",
    "import random\n",
    "\n",
    "# تعداد دفعات تاس انداختن\n",
    "num_rolls = 10000\n",
    "\n",
    "# محاسبه مجموع دو تاس\n",
    "results = [random.randint(1, 6) + random.randint(1, 6) for _ in range(num_rolls)]\n",
    "\n",
    "# رسم نمودار توزیع فراوانی\n",
    "plt.hist(results, bins=range(2, 14), edgecolor='black', density=True)\n",
    "plt.title(\"Probability Distribution of Two Dice Sums\")\n",
    "plt.xlabel(\"Sum of Two Dice\")\n",
    "plt.ylabel(\"Probability\")\n",
    "plt.xticks(range(2, 13))\n",
    "plt.show()\n"
   ]
  },
  {
   "cell_type": "code",
   "execution_count": 37,
   "id": "f38cf64c-9a96-4e32-868f-5c27a75ed29f",
   "metadata": {},
   "outputs": [
    {
     "data": {
      "text/plain": [
       "10000"
      ]
     },
     "execution_count": 37,
     "metadata": {},
     "output_type": "execute_result"
    }
   ],
   "source": [
    "len(results)"
   ]
  },
  {
   "cell_type": "code",
   "execution_count": 39,
   "id": "3213461a-34d3-4f16-b736-0b6cd3651d3e",
   "metadata": {},
   "outputs": [
    {
     "data": {
      "text/plain": [
       "{2, 3, 4, 5, 6, 7, 8, 9, 10, 11, 12}"
      ]
     },
     "execution_count": 39,
     "metadata": {},
     "output_type": "execute_result"
    }
   ],
   "source": [
    "set(results)"
   ]
  },
  {
   "cell_type": "code",
   "execution_count": 40,
   "id": "913e4a37-f80f-4e39-ba59-b9c8660346be",
   "metadata": {},
   "outputs": [],
   "source": [
    "import pandas as pd \n",
    "df = pd.DataFrame({\"count\":results})"
   ]
  },
  {
   "cell_type": "code",
   "execution_count": 45,
   "id": "fcd96ba1-6479-407a-a2de-3e0c61dc0346",
   "metadata": {},
   "outputs": [
    {
     "data": {
      "text/plain": [
       "count\n",
       "2     0.0274\n",
       "3     0.0543\n",
       "4     0.0810\n",
       "5     0.1123\n",
       "6     0.1390\n",
       "7     0.1739\n",
       "8     0.1363\n",
       "9     0.1120\n",
       "10    0.0830\n",
       "11    0.0539\n",
       "12    0.0269\n",
       "dtype: float64"
      ]
     },
     "execution_count": 45,
     "metadata": {},
     "output_type": "execute_result"
    }
   ],
   "source": [
    "df.groupby(\"count\").size()/10000"
   ]
  },
  {
   "cell_type": "code",
   "execution_count": 49,
   "id": "1bccfde0-fcf6-48a7-b55f-0c89b95ce754",
   "metadata": {},
   "outputs": [
    {
     "name": "stdout",
     "output_type": "stream",
     "text": [
      "sajjad\n",
      "sajjad\n",
      "sajjad\n",
      "sajjad\n",
      "sajjad\n",
      "sajjad\n",
      "sajjad\n",
      "sajjad\n",
      "sajjad\n",
      "sajjad\n"
     ]
    }
   ],
   "source": [
    "for i in range(10):\n",
    "    print(\"sajjad\")"
   ]
  },
  {
   "cell_type": "code",
   "execution_count": null,
   "id": "57fbb4fc-d882-423e-8e97-a72f1a33443f",
   "metadata": {},
   "outputs": [],
   "source": []
  }
 ],
 "metadata": {
  "kernelspec": {
   "display_name": "Python 3 (ipykernel)",
   "language": "python",
   "name": "python3"
  },
  "language_info": {
   "codemirror_mode": {
    "name": "ipython",
    "version": 3
   },
   "file_extension": ".py",
   "mimetype": "text/x-python",
   "name": "python",
   "nbconvert_exporter": "python",
   "pygments_lexer": "ipython3",
   "version": "3.11.7"
  }
 },
 "nbformat": 4,
 "nbformat_minor": 5
}
