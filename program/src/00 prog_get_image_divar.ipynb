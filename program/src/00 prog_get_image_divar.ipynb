{
 "cells": [
  {
   "cell_type": "code",
   "execution_count": 24,
   "id": "198670d8-b536-41b1-a57c-91de295cdd4c",
   "metadata": {},
   "outputs": [],
   "source": [
    "myfile = open('../data/sample.txt')"
   ]
  },
  {
   "cell_type": "code",
   "execution_count": 25,
   "id": "c8db74c6-f6c7-47d3-9a5a-aceb77a0a796",
   "metadata": {},
   "outputs": [
    {
     "data": {
      "text/plain": [
       "0"
      ]
     },
     "execution_count": 25,
     "metadata": {},
     "output_type": "execute_result"
    }
   ],
   "source": [
    "myfile.seek(0)"
   ]
  },
  {
   "cell_type": "code",
   "execution_count": 26,
   "id": "3887e869-7df5-4be8-aff5-c1251c22862d",
   "metadata": {},
   "outputs": [
    {
     "data": {
      "text/plain": [
       "'{\\n  \"_id\": \"QZsqyeq3\",\\n  \"analytics\": {\\n    \"cat1\": \"real-estate\",\\n    \"cat2\": \"residential-sell\",\\n    \"cat3\": \"apartment-sell\",\\n    \"city\": \"tehran\"\\n  },\\n  \"contact\": {\\n    \"chat_enabled\": true,\\n    \"transaction\": {}\\n  },\\n  \"sections\": [\\n    {\\n      \"section_name\": \"IMAGE\",\\n      \"widgets\": [\\n        {\\n          \"widget_type\": \"IMAGE_CAROUSEL\",\\n          \"data\": {\\n            \"@type\": \"type.googleapis.com/widgets.ImageCarouselData\",\\n            \"items\": [\\n              {\\n                \"image\": {\\n                  \"url\": \"https://vid.divarcdn.com/QZsqyeq3.jpg\",\\n                  \"alt\": \"غ±غ³غ°ظ…طھط±/ط§ط¹غŒط§ظ† ظ†ط´غŒظ†/ط¨ط§ظˆغŒظˆط§ط¨ط¯غŒ|ظپط±ظˆط´ ط¢ظ¾ط§ط±طھظ…ط§ظ†|طھظ‡ط±ط§ظ†, ط¢ط¬ظˆط¯ط§ظ†غŒظ‡|ط¯غŒظˆط§ط±\"\\n                },\\n                \"video_url\": \"https://vid.divarcdn.com/QZsqyeq3.mp4\"\\n              },\\n              {\\n                \"image\": {\\n                  \"url\": \"https://s100.divarcdn.com/static/photo/afra/real_estate/8QFPbB3faye16FtmIBy7Uw/68450ea9-d326-41a7-8083-2874f327bf4c.jpg\",\\n                  \"alt\": \"غ±غ³غ°ظ…طھط±/ط§ط¹غŒط§ظ† ظ†ط´غŒظ†/ط¨ط§ظˆغŒظˆط§ط¨ط¯غŒ|ظپط±ظˆط´ ط¢ظ¾ط§ط±طھظ…ط§ظ†|طھظ‡ط±ط§ظ†, ط¢ط¬ظˆط¯ط§ظ†غŒظ‡|ط¯غŒظˆط§ط±\"\\n                }\\n              },\\n              {\\n                \"image\": {\\n                  \"url\": \"https://s100.divarcdn.com/static/photo/afra/real_estate/nl_5sELImeCLp2K6jJ4RFA/1caced22-e7fa-40d8-bb6c-cc5c86171d4c.jpg\",\\n                  \"alt\": \"غ±غ³غ°ظ…طھط±/ط§ط¹غŒط§ظ† ظ†ط´غŒظ†/ط¨ط§ظˆغŒظˆط§ط¨ط¯غŒ|ظپط±ظˆط´ ط¢ظ¾ط§ط±طھظ…ط§ظ†|طھظ‡ط±ط§ظ†, ط¢ط¬ظˆط¯ط§ظ†غŒظ‡|ط¯غŒظˆط§ط±\"\\n                }\\n              },\\n              {\\n                \"image\": {\\n                  \"url\": \"https://s100.divarcdn.com/static/photo/afra/real_estate/vhj737aV9qSXmq8m920TSA/4da684f1-2a46-4ec7-84f6-0dfeca8258de.jpg\",\\n                  \"alt\": \"غ±غ³غ°ظ…طھط±/ط§ط¹غŒط§ظ† ظ†ط´غŒظ†/ط¨ط§ظˆغŒظˆط§ط¨ط¯غŒ|ظپط±ظˆط´ ط¢ظ¾ط§ط±طھظ…ط§ظ†|طھظ‡ط±ط§ظ†, ط¢ط¬ظˆط¯ط§ظ†غŒظ‡|ط¯غŒظˆط§ط±\"\\n                }\\n              },\\n              {\\n                \"image\": {\\n                  \"url\": \"https://s100.divarcdn.com/static/photo/afra/real_estate/fmF_WZKmbOtQnpSQhwlG4w/51c8b664-6fa0-4b8c-bf63-8cb3e5c4df55.jpg\",\\n                  \"alt\": \"غ±غ³غ°ظ…طھط±/ط§ط¹غŒط§ظ† ظ†ط´غŒظ†/ط¨ط§ظˆغŒظˆط§ط¨ط¯غŒ|ظپط±ظˆط´ ط¢ظ¾ط§ط±طھظ…ط§ظ†|طھظ‡ط±ط§ظ†, ط¢ط¬ظˆط¯ط§ظ†غŒظ‡|ط¯غŒظˆط§ط±\"\\n                }\\n              },\\n              {\\n                \"image\": {\\n                  \"url\": \"https://s100.divarcdn.com/static/photo/afra/real_estate/cAdh4RdYCvfKHNbdVbBgYQ/db2cc4c1-072c-42d0-a247-db67d890e049.jpg\",\\n                  \"alt\": \"غ±غ³غ°ظ…طھط±/ط§ط¹غŒط§ظ† ظ†ط´غŒظ†/ط¨ط§ظˆغŒظˆط§ط¨ط¯غŒ|ظپط±ظˆط´ ط¢ظ¾ط§ط±طھظ…ط§ظ†|طھظ‡ط±ط§ظ†, ط¢ط¬ظˆط¯ط§ظ†غŒظ‡|ط¯غŒظˆط§ط±\"\\n                }\\n              },\\n              {\\n                \"image\": {\\n                  \"url\": \"https://s100.divarcdn.com/static/photo/afra/real_estate/KF0Xzfd_pueoKEhimjZxSA/85dfc01c-e3fa-49ac-ae7d-539332f70c37.jpg\",\\n                  \"alt\": \"غ±غ³غ°ظ…طھط±/ط§ط¹غŒط§ظ† ظ†ط´غŒظ†/ط¨ط§ظˆغŒظˆط§ط¨ط¯غŒ|ظپط±ظˆط´ ط¢ظ¾ط§ط±طھظ…ط§ظ†|طھظ‡ط±ط§ظ†, ط¢ط¬ظˆط¯ط§ظ†غŒظ‡|ط¯غŒظˆط§ط±\"\\n                }\\n              },\\n              {\\n                \"image\": {\\n                  \"url\": \"https://s100.divarcdn.com/static/photo/afra/real_estate/whvH2cMpdzEGYSJ8TGBPtw/5e069c96-efcb-4819-b99e-8e4524a1c17b.jpg\",\\n                  \"alt\": \"غ±غ³غ°ظ…طھط±/ط§ط¹غŒط§ظ† ظ†ط´غŒظ†/ط¨ط§ظˆغŒظˆط§ط¨ط¯غŒ|ظپط±ظˆط´ ط¢ظ¾ط§ط±طھظ…ط§ظ†|طھظ‡ط±ط§ظ†, ط¢ط¬ظˆط¯ط§ظ†غŒظ‡|ط¯غŒظˆط§ط±\"\\n                }\\n              }\\n            ],\\n            \"image_aspect_ratio\": {\\n              \"dynamic_aspect_ratio\": {\\n                \"height\": 3,\\n                \"width\": 4\\n              }\\n            },\\n            \"has_preview\": true,\\n            \"has_thumbnails\": true\\n          }\\n        }\\n      ]\\n    }\\n\\t]\\n\\t}'"
      ]
     },
     "execution_count": 26,
     "metadata": {},
     "output_type": "execute_result"
    }
   ],
   "source": [
    "myfile.read()"
   ]
  },
  {
   "cell_type": "code",
   "execution_count": null,
   "id": "efa0e60a-3b05-472f-a41c-03157a0534de",
   "metadata": {},
   "outputs": [],
   "source": [
    "open()"
   ]
  },
  {
   "cell_type": "code",
   "execution_count": 27,
   "id": "634936b8-5e4d-44b3-b594-dc0b2c5ec6f6",
   "metadata": {},
   "outputs": [],
   "source": [
    "myfile = open('../data/sample.txt',encoding='utf-8')"
   ]
  },
  {
   "cell_type": "code",
   "execution_count": 28,
   "id": "b9829064-072a-48f8-b1b8-f44199ca84ca",
   "metadata": {},
   "outputs": [
    {
     "data": {
      "text/plain": [
       "0"
      ]
     },
     "execution_count": 28,
     "metadata": {},
     "output_type": "execute_result"
    }
   ],
   "source": [
    "myfile.seek(0)"
   ]
  },
  {
   "cell_type": "code",
   "execution_count": 29,
   "id": "f13762c2-cce8-4190-861e-c5619ad84da2",
   "metadata": {},
   "outputs": [],
   "source": [
    "text = myfile.read()"
   ]
  },
  {
   "cell_type": "code",
   "execution_count": 33,
   "id": "e82ea0be-885c-4979-8405-c4531c51286c",
   "metadata": {},
   "outputs": [
    {
     "data": {
      "text/plain": [
       "str"
      ]
     },
     "execution_count": 33,
     "metadata": {},
     "output_type": "execute_result"
    }
   ],
   "source": [
    "type(text)"
   ]
  },
  {
   "cell_type": "code",
   "execution_count": 34,
   "id": "1757aab9-174e-4da0-a349-b69cafd5494f",
   "metadata": {},
   "outputs": [],
   "source": [
    "import json\n"
   ]
  },
  {
   "cell_type": "code",
   "execution_count": 35,
   "id": "b20b1b69-7457-44c3-a1c1-cb3061ca1d5d",
   "metadata": {},
   "outputs": [],
   "source": [
    "j_text = json.loads(text)"
   ]
  },
  {
   "cell_type": "code",
   "execution_count": 36,
   "id": "9bcf076e-daeb-4d51-a4a7-6c0de06715cf",
   "metadata": {},
   "outputs": [
    {
     "data": {
      "text/plain": [
       "{'_id': 'QZsqyeq3',\n",
       " 'analytics': {'cat1': 'real-estate',\n",
       "  'cat2': 'residential-sell',\n",
       "  'cat3': 'apartment-sell',\n",
       "  'city': 'tehran'},\n",
       " 'contact': {'chat_enabled': True, 'transaction': {}},\n",
       " 'sections': [{'section_name': 'IMAGE',\n",
       "   'widgets': [{'widget_type': 'IMAGE_CAROUSEL',\n",
       "     'data': {'@type': 'type.googleapis.com/widgets.ImageCarouselData',\n",
       "      'items': [{'image': {'url': 'https://vid.divarcdn.com/QZsqyeq3.jpg',\n",
       "         'alt': '۱۳۰متر/اعیان نشین/باویوابدی|فروش آپارتمان|تهران, آجودانیه|دیوار'},\n",
       "        'video_url': 'https://vid.divarcdn.com/QZsqyeq3.mp4'},\n",
       "       {'image': {'url': 'https://s100.divarcdn.com/static/photo/afra/real_estate/8QFPbB3faye16FtmIBy7Uw/68450ea9-d326-41a7-8083-2874f327bf4c.jpg',\n",
       "         'alt': '۱۳۰متر/اعیان نشین/باویوابدی|فروش آپارتمان|تهران, آجودانیه|دیوار'}},\n",
       "       {'image': {'url': 'https://s100.divarcdn.com/static/photo/afra/real_estate/nl_5sELImeCLp2K6jJ4RFA/1caced22-e7fa-40d8-bb6c-cc5c86171d4c.jpg',\n",
       "         'alt': '۱۳۰متر/اعیان نشین/باویوابدی|فروش آپارتمان|تهران, آجودانیه|دیوار'}},\n",
       "       {'image': {'url': 'https://s100.divarcdn.com/static/photo/afra/real_estate/vhj737aV9qSXmq8m920TSA/4da684f1-2a46-4ec7-84f6-0dfeca8258de.jpg',\n",
       "         'alt': '۱۳۰متر/اعیان نشین/باویوابدی|فروش آپارتمان|تهران, آجودانیه|دیوار'}},\n",
       "       {'image': {'url': 'https://s100.divarcdn.com/static/photo/afra/real_estate/fmF_WZKmbOtQnpSQhwlG4w/51c8b664-6fa0-4b8c-bf63-8cb3e5c4df55.jpg',\n",
       "         'alt': '۱۳۰متر/اعیان نشین/باویوابدی|فروش آپارتمان|تهران, آجودانیه|دیوار'}},\n",
       "       {'image': {'url': 'https://s100.divarcdn.com/static/photo/afra/real_estate/cAdh4RdYCvfKHNbdVbBgYQ/db2cc4c1-072c-42d0-a247-db67d890e049.jpg',\n",
       "         'alt': '۱۳۰متر/اعیان نشین/باویوابدی|فروش آپارتمان|تهران, آجودانیه|دیوار'}},\n",
       "       {'image': {'url': 'https://s100.divarcdn.com/static/photo/afra/real_estate/KF0Xzfd_pueoKEhimjZxSA/85dfc01c-e3fa-49ac-ae7d-539332f70c37.jpg',\n",
       "         'alt': '۱۳۰متر/اعیان نشین/باویوابدی|فروش آپارتمان|تهران, آجودانیه|دیوار'}},\n",
       "       {'image': {'url': 'https://s100.divarcdn.com/static/photo/afra/real_estate/whvH2cMpdzEGYSJ8TGBPtw/5e069c96-efcb-4819-b99e-8e4524a1c17b.jpg',\n",
       "         'alt': '۱۳۰متر/اعیان نشین/باویوابدی|فروش آپارتمان|تهران, آجودانیه|دیوار'}}],\n",
       "      'image_aspect_ratio': {'dynamic_aspect_ratio': {'height': 3,\n",
       "        'width': 4}},\n",
       "      'has_preview': True,\n",
       "      'has_thumbnails': True}}]}]}"
      ]
     },
     "execution_count": 36,
     "metadata": {},
     "output_type": "execute_result"
    }
   ],
   "source": [
    "j_text"
   ]
  },
  {
   "cell_type": "code",
   "execution_count": 37,
   "id": "3fd99b35-dfee-4f1d-b656-4a147d96d9ed",
   "metadata": {},
   "outputs": [
    {
     "data": {
      "text/plain": [
       "dict"
      ]
     },
     "execution_count": 37,
     "metadata": {},
     "output_type": "execute_result"
    }
   ],
   "source": [
    "type(j_text)"
   ]
  },
  {
   "cell_type": "code",
   "execution_count": 43,
   "id": "2ab10d11-8654-4539-96d4-68d69fd022a7",
   "metadata": {},
   "outputs": [
    {
     "data": {
      "text/plain": [
       "dict_keys(['_id', 'analytics', 'contact', 'sections'])"
      ]
     },
     "execution_count": 43,
     "metadata": {},
     "output_type": "execute_result"
    }
   ],
   "source": [
    "j_text.keys()"
   ]
  },
  {
   "cell_type": "code",
   "execution_count": 44,
   "id": "e49c06e1-4b67-46b2-b44c-62e2c1dfa425",
   "metadata": {},
   "outputs": [
    {
     "data": {
      "text/plain": [
       "'QZsqyeq3'"
      ]
     },
     "execution_count": 44,
     "metadata": {},
     "output_type": "execute_result"
    }
   ],
   "source": [
    "j_text['_id']"
   ]
  },
  {
   "cell_type": "code",
   "execution_count": 46,
   "id": "35c1f76b-a534-45ed-af32-ddf990317b47",
   "metadata": {},
   "outputs": [
    {
     "data": {
      "text/plain": [
       "{'cat1': 'real-estate',\n",
       " 'cat2': 'residential-sell',\n",
       " 'cat3': 'apartment-sell',\n",
       " 'city': 'tehran'}"
      ]
     },
     "execution_count": 46,
     "metadata": {},
     "output_type": "execute_result"
    }
   ],
   "source": [
    "j_text[\"analytics\"]"
   ]
  },
  {
   "cell_type": "code",
   "execution_count": 47,
   "id": "d0bb15c8-d35c-4a2e-b75d-bb9d7fcc6bf0",
   "metadata": {},
   "outputs": [
    {
     "data": {
      "text/plain": [
       "{'chat_enabled': True, 'transaction': {}}"
      ]
     },
     "execution_count": 47,
     "metadata": {},
     "output_type": "execute_result"
    }
   ],
   "source": [
    "j_text[\"contact\"]"
   ]
  },
  {
   "cell_type": "code",
   "execution_count": 50,
   "id": "abcfbe8e-5b80-4961-bc2c-aee4e17c7d62",
   "metadata": {},
   "outputs": [],
   "source": [
    "section_1 = j_text[\"sections\"]"
   ]
  },
  {
   "cell_type": "code",
   "execution_count": 52,
   "id": "c5a8f442-f8e4-4b96-9435-88cd1a312e38",
   "metadata": {},
   "outputs": [
    {
     "data": {
      "text/plain": [
       "list"
      ]
     },
     "execution_count": 52,
     "metadata": {},
     "output_type": "execute_result"
    }
   ],
   "source": [
    "type(section_1)"
   ]
  },
  {
   "cell_type": "code",
   "execution_count": 55,
   "id": "5b14097b-1496-4edb-aef5-f86e6f41de5d",
   "metadata": {},
   "outputs": [],
   "source": [
    "j_section = section_1[0]"
   ]
  },
  {
   "cell_type": "code",
   "execution_count": 56,
   "id": "bd7fd232-2ef5-42db-972a-6821dfbe8784",
   "metadata": {},
   "outputs": [
    {
     "data": {
      "text/plain": [
       "dict"
      ]
     },
     "execution_count": 56,
     "metadata": {},
     "output_type": "execute_result"
    }
   ],
   "source": [
    "type(j_section)"
   ]
  },
  {
   "cell_type": "code",
   "execution_count": 57,
   "id": "b92ee38c-f75d-4395-a7b3-d68a93afdc2e",
   "metadata": {},
   "outputs": [
    {
     "data": {
      "text/plain": [
       "dict_keys(['section_name', 'widgets'])"
      ]
     },
     "execution_count": 57,
     "metadata": {},
     "output_type": "execute_result"
    }
   ],
   "source": [
    "j_section.keys()"
   ]
  },
  {
   "cell_type": "code",
   "execution_count": 58,
   "id": "dc26030f-910e-4b87-8808-d3f983b23778",
   "metadata": {},
   "outputs": [
    {
     "data": {
      "text/plain": [
       "'IMAGE'"
      ]
     },
     "execution_count": 58,
     "metadata": {},
     "output_type": "execute_result"
    }
   ],
   "source": [
    "j_section[\"section_name\"]"
   ]
  },
  {
   "cell_type": "code",
   "execution_count": 62,
   "id": "fbbbd385-534c-4de4-9e97-9f70beeb454b",
   "metadata": {},
   "outputs": [
    {
     "data": {
      "text/plain": [
       "dict_keys(['widget_type', 'data'])"
      ]
     },
     "execution_count": 62,
     "metadata": {},
     "output_type": "execute_result"
    }
   ],
   "source": [
    "j_section[\"widgets\"][0].keys()"
   ]
  },
  {
   "cell_type": "code",
   "execution_count": 63,
   "id": "501c5a70-365f-4414-b4b7-2bd2a2f09d6f",
   "metadata": {},
   "outputs": [
    {
     "data": {
      "text/plain": [
       "'IMAGE_CAROUSEL'"
      ]
     },
     "execution_count": 63,
     "metadata": {},
     "output_type": "execute_result"
    }
   ],
   "source": [
    "j_section[\"widgets\"][0][\"widget_type\"]"
   ]
  },
  {
   "cell_type": "code",
   "execution_count": 68,
   "id": "d9c83a90-b298-4da3-82d6-dc53d784d25d",
   "metadata": {},
   "outputs": [
    {
     "data": {
      "text/plain": [
       "8"
      ]
     },
     "execution_count": 68,
     "metadata": {},
     "output_type": "execute_result"
    }
   ],
   "source": [
    "len(j_section[\"widgets\"][0][\"data\"][\"items\"])"
   ]
  },
  {
   "cell_type": "code",
   "execution_count": 70,
   "id": "f903314a-7709-4144-813a-42e8c7a270c5",
   "metadata": {},
   "outputs": [],
   "source": [
    "list_section = j_section[\"widgets\"][0][\"data\"][\"items\"]"
   ]
  },
  {
   "cell_type": "code",
   "execution_count": 76,
   "id": "c710e03d-3906-4979-9232-4f3ce5b75fd8",
   "metadata": {},
   "outputs": [],
   "source": [
    "img = [ ] \n",
    "for images in list_section:\n",
    "    img.append(images[\"image\"][\"url\"])\n",
    "    "
   ]
  },
  {
   "cell_type": "code",
   "execution_count": 78,
   "id": "392d5b32-0a03-4fa1-89e6-fc5e8c300703",
   "metadata": {},
   "outputs": [
    {
     "data": {
      "text/plain": [
       "'https://vid.divarcdn.com/QZsqyeq3.jpg'"
      ]
     },
     "execution_count": 78,
     "metadata": {},
     "output_type": "execute_result"
    }
   ],
   "source": [
    "img[0]"
   ]
  },
  {
   "cell_type": "code",
   "execution_count": 83,
   "id": "baa289ce-8424-4ae1-994c-4d73d90cec5c",
   "metadata": {},
   "outputs": [
    {
     "data": {
      "text/plain": [
       "'https://s100.divarcdn.com/static/photo/afra/real_estate/8QFPbB3faye16FtmIBy7Uw/68450ea9-d326-41a7-8083-2874f327bf4c.jpg'"
      ]
     },
     "execution_count": 83,
     "metadata": {},
     "output_type": "execute_result"
    }
   ],
   "source": [
    "img[1]"
   ]
  },
  {
   "cell_type": "code",
   "execution_count": 84,
   "id": "ac88e334-354d-44db-9163-7fd0a15636f2",
   "metadata": {},
   "outputs": [
    {
     "data": {
      "text/plain": [
       "'https://s100.divarcdn.com/static/photo/afra/real_estate/nl_5sELImeCLp2K6jJ4RFA/1caced22-e7fa-40d8-bb6c-cc5c86171d4c.jpg'"
      ]
     },
     "execution_count": 84,
     "metadata": {},
     "output_type": "execute_result"
    }
   ],
   "source": [
    "img[2]"
   ]
  },
  {
   "cell_type": "code",
   "execution_count": 85,
   "id": "1ce12602-e0b9-4982-8039-393a1fb2f8fa",
   "metadata": {},
   "outputs": [
    {
     "data": {
      "text/plain": [
       "'https://s100.divarcdn.com/static/photo/afra/real_estate/vhj737aV9qSXmq8m920TSA/4da684f1-2a46-4ec7-84f6-0dfeca8258de.jpg'"
      ]
     },
     "execution_count": 85,
     "metadata": {},
     "output_type": "execute_result"
    }
   ],
   "source": [
    "img[3]"
   ]
  },
  {
   "cell_type": "code",
   "execution_count": 86,
   "id": "0fbfbd27-4677-4857-8ef3-47a526fd6998",
   "metadata": {},
   "outputs": [
    {
     "data": {
      "text/plain": [
       "'https://s100.divarcdn.com/static/photo/afra/real_estate/fmF_WZKmbOtQnpSQhwlG4w/51c8b664-6fa0-4b8c-bf63-8cb3e5c4df55.jpg'"
      ]
     },
     "execution_count": 86,
     "metadata": {},
     "output_type": "execute_result"
    }
   ],
   "source": [
    "img[4]"
   ]
  },
  {
   "cell_type": "code",
   "execution_count": null,
   "id": "df3ad33e-a2b0-442d-a19b-ac95f9895900",
   "metadata": {},
   "outputs": [],
   "source": []
  },
  {
   "cell_type": "code",
   "execution_count": 87,
   "id": "64643965-df9a-4b1a-9c4b-07c8258a2c62",
   "metadata": {},
   "outputs": [],
   "source": [
    "j_text = json.loads(text)\n",
    "j_text.keys()\n",
    "section_1 = j_text[\"sections\"]\n",
    "j_section = section_1[0]\n",
    "list_section = j_section[\"widgets\"][0][\"data\"][\"items\"]\n",
    "img = [ ] \n",
    "for images in list_section:\n",
    "    img.append(images[\"image\"][\"url\"])\n",
    "    "
   ]
  },
  {
   "cell_type": "code",
   "execution_count": 92,
   "id": "ddf826e9-a296-456a-980a-b695f1f00562",
   "metadata": {},
   "outputs": [],
   "source": [
    "def get_url_img(text:str):\n",
    "    try: \n",
    "        try:\n",
    "            j_text = json.loads(text)\n",
    "            # rest of your code\n",
    "        except json.JSONDecodeError as e:\n",
    "            print(f\"Error decoding JSON: {e}\")\n",
    "        except KeyError as e:\n",
    "            print(f\"KeyError: {e}\")\n",
    "        img = [images[\"image\"][\"url\"] for images in j_text[\"sections\"][0][\"widgets\"][0][\"data\"][\"items\"]]\n",
    "        if \"sections\" in j_text and j_text[\"sections\"]:\n",
    "            list_section = j_text[\"sections\"][0][\"widgets\"][0][\"data\"][\"items\"]\n",
    "            img = [images[\"image\"][\"url\"] for images in list_section]\n",
    "            return img\n",
    "        else:\n",
    "            print(\"Invalid JSON structure or missing sections.\")\n",
    "            return None\n",
    "    except : \n",
    "        print(\"I could not extract the address of the photos\")\n",
    "        return None"
   ]
  },
  {
   "cell_type": "code",
   "execution_count": 97,
   "id": "88303518-a3ed-453b-bc42-a823f50c702a",
   "metadata": {},
   "outputs": [
    {
     "data": {
      "text/plain": [
       "['https://vid.divarcdn.com/QZsqyeq3.jpg',\n",
       " 'https://s100.divarcdn.com/static/photo/afra/real_estate/8QFPbB3faye16FtmIBy7Uw/68450ea9-d326-41a7-8083-2874f327bf4c.jpg',\n",
       " 'https://s100.divarcdn.com/static/photo/afra/real_estate/nl_5sELImeCLp2K6jJ4RFA/1caced22-e7fa-40d8-bb6c-cc5c86171d4c.jpg',\n",
       " 'https://s100.divarcdn.com/static/photo/afra/real_estate/vhj737aV9qSXmq8m920TSA/4da684f1-2a46-4ec7-84f6-0dfeca8258de.jpg',\n",
       " 'https://s100.divarcdn.com/static/photo/afra/real_estate/fmF_WZKmbOtQnpSQhwlG4w/51c8b664-6fa0-4b8c-bf63-8cb3e5c4df55.jpg',\n",
       " 'https://s100.divarcdn.com/static/photo/afra/real_estate/cAdh4RdYCvfKHNbdVbBgYQ/db2cc4c1-072c-42d0-a247-db67d890e049.jpg',\n",
       " 'https://s100.divarcdn.com/static/photo/afra/real_estate/KF0Xzfd_pueoKEhimjZxSA/85dfc01c-e3fa-49ac-ae7d-539332f70c37.jpg',\n",
       " 'https://s100.divarcdn.com/static/photo/afra/real_estate/whvH2cMpdzEGYSJ8TGBPtw/5e069c96-efcb-4819-b99e-8e4524a1c17b.jpg']"
      ]
     },
     "execution_count": 97,
     "metadata": {},
     "output_type": "execute_result"
    }
   ],
   "source": [
    "get_url_img(text)"
   ]
  },
  {
   "cell_type": "code",
   "execution_count": 91,
   "id": "83a64da7-83a9-4ef0-9024-16c399a28f6e",
   "metadata": {},
   "outputs": [],
   "source": []
  },
  {
   "cell_type": "code",
   "execution_count": null,
   "id": "0481bc7f-dc28-4da6-8647-901dcf6ff611",
   "metadata": {},
   "outputs": [],
   "source": []
  }
 ],
 "metadata": {
  "kernelspec": {
   "display_name": "Python 3 (ipykernel)",
   "language": "python",
   "name": "python3"
  },
  "language_info": {
   "codemirror_mode": {
    "name": "ipython",
    "version": 3
   },
   "file_extension": ".py",
   "mimetype": "text/x-python",
   "name": "python",
   "nbconvert_exporter": "python",
   "pygments_lexer": "ipython3",
   "version": "3.8.2"
  }
 },
 "nbformat": 4,
 "nbformat_minor": 5
}
