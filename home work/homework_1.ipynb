{
 "cells": [
  {
   "cell_type": "code",
   "execution_count": 7,
   "id": "f4303791",
   "metadata": {},
   "outputs": [
    {
     "name": "stdout",
     "output_type": "stream",
     "text": [
      "تعداد حروف بزرگ: 4\n",
      "تعداد حروف کوچک: 6\n"
     ]
    }
   ],
   "source": [
    "\n",
    "input_string = \"HelLo WorLd\"\n",
    "\n",
    "uppercase_count = 0 \n",
    "lowercase_count = 0 \n",
    "\n",
    "for char in input_string:\n",
    "    if char.isupper():\n",
    "        uppercase_count += 1\n",
    "    elif char.islower():\n",
    "        lowercase_count += 1\n",
    "\n",
    "print(f\"تعداد حروف بزرگ: {uppercase_count}\")\n",
    "print(f\"تعداد حروف کوچک: {lowercase_count}\")"
   ]
  },
  {
   "cell_type": "code",
   "execution_count": 8,
   "id": "e9455cfd",
   "metadata": {},
   "outputs": [
    {
     "name": "stdout",
     "output_type": "stream",
     "text": [
      "count lower character:  6\n",
      "count lower character:  4\n"
     ]
    }
   ],
   "source": [
    "my_word = \"HelLo WorLd\"\n",
    "lower_count = sum(map(str.islower, my_word))\n",
    "print(\"count lower character: \" , lower_count)\n",
    "\n",
    "\n",
    "upper_count = sum(map(str.isupper, my_word))\n",
    "print(\"count lower character: \" , upper_count)\n"
   ]
  },
  {
   "cell_type": "code",
   "execution_count": 13,
   "id": "166c6dd2",
   "metadata": {},
   "outputs": [
    {
     "name": "stdout",
     "output_type": "stream",
     "text": [
      "Lower :6 , upper: 4\n"
     ]
    }
   ],
   "source": [
    "word = \"HelLo WorLd\"\n",
    "u = len([x for x in word if x.isupper()])\n",
    "l = len([x for x in word if x.islower()])\n",
    "print(f'Lower :{l} , upper: {u}')"
   ]
  },
  {
   "cell_type": "code",
   "execution_count": 14,
   "id": "26e1408f",
   "metadata": {},
   "outputs": [
    {
     "ename": "SyntaxError",
     "evalue": "invalid syntax (2168213131.py, line 1)",
     "output_type": "error",
     "traceback": [
      "\u001b[1;36m  Cell \u001b[1;32mIn[14], line 1\u001b[1;36m\u001b[0m\n\u001b[1;33m    Q2 :\u001b[0m\n\u001b[1;37m        ^\u001b[0m\n\u001b[1;31mSyntaxError\u001b[0m\u001b[1;31m:\u001b[0m invalid syntax\n"
     ]
    }
   ],
   "source": [
    "Q2 :"
   ]
  },
  {
   "cell_type": "code",
   "execution_count": 31,
   "id": "a10875be",
   "metadata": {},
   "outputs": [
    {
     "data": {
      "text/plain": [
       "{'numer': 1, 'name': 'sajjad', 'avg': '50', 'Study': 'statistics'}"
      ]
     },
     "execution_count": 31,
     "metadata": {},
     "output_type": "execute_result"
    }
   ],
   "source": [
    "students_data = {\n",
    "    \"sajjad\" : {\"numer\":1 , \"name\": 'sajjad' , \"avg\" :\"50\" , \"Study\" : \"statistics\"},\n",
    "    \"hesam\" : {\"numer\":2 , \"name\": 'hesam' , \"avg\" :\"20\" , \"Study\" : \"mathematical\"},\n",
    "    \"nima\" : {\"numer\":3 , \"name\": 'nima' , \"avg\" :\"23\" , \"Study\" : \"physics\"}\n",
    "    \n",
    "}\n",
    "\n",
    "\n",
    "name = 'sajjad'\n",
    "\n",
    "students_data[name]"
   ]
  },
  {
   "cell_type": "code",
   "execution_count": 57,
   "id": "41bb690c",
   "metadata": {},
   "outputs": [
    {
     "name": "stdout",
     "output_type": "stream",
     "text": [
      "count odd: 5 \n",
      "count even: 5\n"
     ]
    }
   ],
   "source": [
    "numbers_str = \"1,2,3,4,5,6,7,8,9,10\"\n",
    "numbers_tuple = tuple(numbers_list)\n",
    "\n",
    "even_count = sum(1 for num in numbers_tuple if num % 2 == 0)\n",
    "\n",
    "odd_count = sum(1 for num in numbers_tuple if num % 2 != 0)\n",
    "\n",
    "print(\"count odd:\" , even_count ,'\\ncount even:' , odd_count)"
   ]
  },
  {
   "cell_type": "code",
   "execution_count": 53,
   "id": "a55762b8",
   "metadata": {},
   "outputs": [
    {
     "name": "stdout",
     "output_type": "stream",
     "text": [
      "10 یک عدد اول نیست.\n"
     ]
    }
   ],
   "source": [
    "# 2, 3, 5, 7, 11, 13, 17, 19, 23, 29, 31, 37, 41, 43, 47, 53, 59, 61, 67, 71, 73, 79, 83, 89, 97\n",
    "\n",
    "\n",
    "\n",
    "\n",
    "\n",
    "# گرفتن عدد از ورودی\n",
    "num = 10\n",
    "\n",
    "# بررسی آیا عدد اول است یا خیر\n",
    "if num < 2:\n",
    "    print(f\"{num} یک عدد اول نیست.\")\n",
    "else:\n",
    "    is_prime = True\n",
    "    for i in range(2, int(num**0.5) + 1):\n",
    "        if num % i == 0:\n",
    "            is_prime = False\n",
    "            break\n",
    "    if is_prime:\n",
    "        print(f\"{num} یک عدد اول است.\")\n",
    "    else:\n",
    "        print(f\"{num} یک عدد اول نیست.\")\n"
   ]
  },
  {
   "cell_type": "code",
   "execution_count": 54,
   "id": "39189ae8",
   "metadata": {},
   "outputs": [],
   "source": [
    "#test "
   ]
  },
  {
   "cell_type": "code",
   "execution_count": 90,
   "id": "4fb32e42",
   "metadata": {},
   "outputs": [],
   "source": [
    "\n",
    "def count_oddandeven(mytuple):\n",
    "    countodd=0\n",
    "    counteven=0\n",
    "    for i in mytuple:\n",
    "        if int(i) %2==0:\n",
    "            counteven += 1\n",
    "\n",
    "        else:\n",
    "            countodd += 1\n",
    "    print(\"counteven:\",counteven,\"countodd:\",countodd)\n",
    "    \n",
    "input_list = input(\"inter number: \")\n",
    "num = tuple(input_list.split(','))\n",
    "count_oddandeven(num)"
   ]
  },
  {
   "cell_type": "code",
   "execution_count": 1,
   "id": "d96dfa87",
   "metadata": {},
   "outputs": [
    {
     "name": "stdout",
     "output_type": "stream",
     "text": [
      "choes in ['Hamed', 'Ali', 'Nima'] :\n"
     ]
    }
   ],
   "source": [
    "\n",
    "Mydic= {\"Name\": [\"Hamed\",\"Ali\",\"Nima\"],\n",
    "        \"Family\": [\"jafari\",\"heydari\",\"mokhtari\"],\n",
    "        \"Age\": [23,35,26,20],\n",
    "        \"Major\":[\"computer\",\"Riazi\",\"Shimi\",\"physic\"]\n",
    "}\n",
    "\n",
    "myname=input(f'choes in {Mydic[\"Name\"]} :')\n",
    "if myname in Mydic[\"Name\"]:\n",
    "    idx = Mydic[\"Name\"].index(\"Hamed\")\n",
    "    \n",
    "    Name = Mydic[\"Name\"][idx]\n",
    "    Family = Mydic[\"Family\"][idx]\n",
    "    Age = Mydic[\"Age\"][idx]\n",
    "    Major = Mydic[\"Major\"][idx]\n",
    "    print(f'Frsit name is {Name} and last name is {Family} and {Age} years old and Major {Major} ' )\n",
    "    "
   ]
  },
  {
   "cell_type": "code",
   "execution_count": null,
   "id": "78cba69a",
   "metadata": {},
   "outputs": [],
   "source": []
  },
  {
   "cell_type": "code",
   "execution_count": null,
   "id": "b86fcc5d",
   "metadata": {},
   "outputs": [],
   "source": []
  },
  {
   "cell_type": "code",
   "execution_count": null,
   "id": "40c9fd23",
   "metadata": {},
   "outputs": [],
   "source": []
  },
  {
   "cell_type": "code",
   "execution_count": null,
   "id": "c448d951",
   "metadata": {},
   "outputs": [],
   "source": []
  },
  {
   "cell_type": "code",
   "execution_count": null,
   "id": "3cad26e0",
   "metadata": {},
   "outputs": [],
   "source": []
  },
  {
   "cell_type": "code",
   "execution_count": null,
   "id": "864104c7",
   "metadata": {},
   "outputs": [],
   "source": []
  },
  {
   "cell_type": "code",
   "execution_count": null,
   "id": "ee0c40f0",
   "metadata": {},
   "outputs": [],
   "source": []
  },
  {
   "cell_type": "code",
   "execution_count": null,
   "id": "57893777",
   "metadata": {},
   "outputs": [],
   "source": []
  },
  {
   "cell_type": "code",
   "execution_count": null,
   "id": "fe5b02c6",
   "metadata": {},
   "outputs": [],
   "source": []
  },
  {
   "cell_type": "code",
   "execution_count": null,
   "id": "b25f2143",
   "metadata": {},
   "outputs": [],
   "source": []
  },
  {
   "cell_type": "code",
   "execution_count": null,
   "id": "bc600c87",
   "metadata": {},
   "outputs": [],
   "source": []
  },
  {
   "cell_type": "code",
   "execution_count": null,
   "id": "277f165b",
   "metadata": {},
   "outputs": [],
   "source": []
  },
  {
   "cell_type": "code",
   "execution_count": null,
   "id": "24a4613b",
   "metadata": {},
   "outputs": [],
   "source": []
  },
  {
   "cell_type": "code",
   "execution_count": null,
   "id": "3f81e73a",
   "metadata": {},
   "outputs": [],
   "source": []
  },
  {
   "cell_type": "code",
   "execution_count": null,
   "id": "36212b58",
   "metadata": {},
   "outputs": [],
   "source": []
  },
  {
   "cell_type": "code",
   "execution_count": null,
   "id": "1c10ad8e",
   "metadata": {},
   "outputs": [],
   "source": []
  },
  {
   "cell_type": "code",
   "execution_count": 8,
   "id": "50ed9127",
   "metadata": {},
   "outputs": [],
   "source": [
    "name = 'Sajjad Esmaili'"
   ]
  },
  {
   "cell_type": "code",
   "execution_count": 19,
   "id": "4e9e5fbd",
   "metadata": {},
   "outputs": [
    {
     "data": {
      "text/plain": [
       "14"
      ]
     },
     "execution_count": 19,
     "metadata": {},
     "output_type": "execute_result"
    }
   ],
   "source": [
    "n"
   ]
  },
  {
   "cell_type": "code",
   "execution_count": 23,
   "id": "14c761c8",
   "metadata": {},
   "outputs": [],
   "source": [
    "n=len(name)\n",
    "big = 0\n",
    "low = 0\n",
    "other = 0"
   ]
  },
  {
   "cell_type": "code",
   "execution_count": 24,
   "id": "975961e4",
   "metadata": {},
   "outputs": [
    {
     "name": "stdout",
     "output_type": "stream",
     "text": [
      "upper= 2\n",
      "lower= 11\n",
      "other=1\n"
     ]
    }
   ],
   "source": [
    "for i in range(0,n,1):\n",
    "    if name[i].islower() == True :\n",
    "        low+=1\n",
    "    elif name[i].isupper() == True :\n",
    "        big+=1\n",
    "    else:\n",
    "        other +=1\n",
    "    \n",
    "print(\"upper=\",big)\n",
    "print(\"lower=\",low)\n",
    "print(f\"other={other}\")"
   ]
  },
  {
   "cell_type": "code",
   "execution_count": 11,
   "id": "405288b4",
   "metadata": {},
   "outputs": [
    {
     "data": {
      "text/plain": [
       "False"
      ]
     },
     "execution_count": 11,
     "metadata": {},
     "output_type": "execute_result"
    }
   ],
   "source": [
    "\" \".islower()"
   ]
  },
  {
   "cell_type": "code",
   "execution_count": 12,
   "id": "a212ab20",
   "metadata": {},
   "outputs": [
    {
     "data": {
      "text/plain": [
       "False"
      ]
     },
     "execution_count": 12,
     "metadata": {},
     "output_type": "execute_result"
    }
   ],
   "source": [
    "\" \".isupper()"
   ]
  },
  {
   "cell_type": "code",
   "execution_count": 13,
   "id": "0d534a19",
   "metadata": {},
   "outputs": [
    {
     "data": {
      "text/plain": [
       "'S'"
      ]
     },
     "execution_count": 13,
     "metadata": {},
     "output_type": "execute_result"
    }
   ],
   "source": [
    "i = 0 \n",
    "name[i]"
   ]
  },
  {
   "cell_type": "code",
   "execution_count": 37,
   "id": "cc75c2bb",
   "metadata": {},
   "outputs": [],
   "source": [
    "student={\n",
    "    \"Azadeh\":{\"name\":\"Azadeh\",\"Age\":18,\"Study\":[\"Software\",\"Data\"]},\n",
    "     \"Sajad\":{\"name\":\"Sajad\",\"Age\":16,\"Study\":\"Data\"},\n",
    "     \"Hamid\":{\"name\":\"Hamid\",\"Age\":16,\"Study\":\"Software\"}\n",
    "\n",
    "}"
   ]
  },
  {
   "cell_type": "code",
   "execution_count": 38,
   "id": "b124d86e",
   "metadata": {},
   "outputs": [
    {
     "name": "stdout",
     "output_type": "stream",
     "text": [
      "{'Azadeh': {'name': 'Azadeh', 'Age': 18, 'Study': ['Software', 'Data']}, 'Sajad': {'name': 'Sajad', 'Age': 16, 'Study': 'Data'}, 'Hamid': {'name': 'Hamid', 'Age': 16, 'Study': 'Software'}}\n"
     ]
    }
   ],
   "source": [
    "print(student)"
   ]
  },
  {
   "cell_type": "code",
   "execution_count": 39,
   "id": "b3432c3f",
   "metadata": {},
   "outputs": [
    {
     "data": {
      "text/plain": [
       "['Azadeh', 'Sajad', 'Hamid']"
      ]
     },
     "execution_count": 39,
     "metadata": {},
     "output_type": "execute_result"
    }
   ],
   "source": [
    "st =list(student.keys())\n",
    "st"
   ]
  },
  {
   "cell_type": "code",
   "execution_count": 42,
   "id": "5a78f51f",
   "metadata": {},
   "outputs": [
    {
     "name": "stdout",
     "output_type": "stream",
     "text": [
      "مدیر هستن تو کلاس نیستن\n"
     ]
    }
   ],
   "source": [
    "name=\"nasir\"\n",
    "if name in st:\n",
    "    print(student[name])\n",
    "if name not in st:\n",
    "    print(\"مدیر هستن تو کلاس نیستن\")"
   ]
  },
  {
   "cell_type": "code",
   "execution_count": null,
   "id": "a69bdf96",
   "metadata": {},
   "outputs": [],
   "source": []
  }
 ],
 "metadata": {
  "kernelspec": {
   "display_name": "Python 3 (ipykernel)",
   "language": "python",
   "name": "python3"
  },
  "language_info": {
   "codemirror_mode": {
    "name": "ipython",
    "version": 3
   },
   "file_extension": ".py",
   "mimetype": "text/x-python",
   "name": "python",
   "nbconvert_exporter": "python",
   "pygments_lexer": "ipython3",
   "version": "3.11.4"
  }
 },
 "nbformat": 4,
 "nbformat_minor": 5
}
